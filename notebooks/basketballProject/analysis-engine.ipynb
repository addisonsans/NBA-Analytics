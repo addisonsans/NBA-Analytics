{
 "cells": [
  {
   "cell_type": "code",
   "execution_count": 7,
   "metadata": {},
   "outputs": [],
   "source": [
    "# import python libraries and nba library\n",
    "import pandas as np\n",
    "import nba_api as nba\n",
    "from matplotlib import pyplot as plt\n",
    "import pandas as pd\n",
    "import socket\n",
    "import logging\n",
    "import os\n",
    "import glob"
   ]
  },
  {
   "cell_type": "code",
   "execution_count": 8,
   "metadata": {},
   "outputs": [],
   "source": [
    "# Get all files in working data directory\n",
    "path = os.getcwd()\n",
    "path = path.replace(\"notebooks\",\"data\")\n",
    "csv_files = glob.glob(os.path.join(path,\"*.csv\"))"
   ]
  },
  {
   "cell_type": "code",
   "execution_count": 9,
   "metadata": {},
   "outputs": [],
   "source": [
    "check_df = pd.DataFrame()\n",
    "for file in csv_files:\n",
    "\n",
    "    df = pd.read_csv(file)\n",
    "    frames = [check_df, df]\n",
    "    check_df = pd.concat(frames)"
   ]
  },
  {
   "cell_type": "code",
   "execution_count": null,
   "metadata": {},
   "outputs": [],
   "source": []
  }
 ],
 "metadata": {
  "kernelspec": {
   "display_name": "Python 3",
   "language": "python",
   "name": "python3"
  },
  "language_info": {
   "codemirror_mode": {
    "name": "ipython",
    "version": 3
   },
   "file_extension": ".py",
   "mimetype": "text/x-python",
   "name": "python",
   "nbconvert_exporter": "python",
   "pygments_lexer": "ipython3",
   "version": "3.11.1"
  },
  "orig_nbformat": 4,
  "vscode": {
   "interpreter": {
    "hash": "214b9567dfb3af3fec25f201254d742456ae26af278166741b3d1f08044ae781"
   }
  }
 },
 "nbformat": 4,
 "nbformat_minor": 2
}
