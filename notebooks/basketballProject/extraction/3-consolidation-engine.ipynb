{
 "cells": [
  {
   "cell_type": "code",
   "execution_count": null,
   "metadata": {},
   "outputs": [],
   "source": [
    "# import python libraries and nba library\n",
    "import numpy as np\n",
    "import nba_api as nba\n",
    "from matplotlib import pyplot as plt\n",
    "import pandas as pd\n",
    "import socket\n",
    "import logging\n",
    "import os\n",
    "import glob"
   ]
  },
  {
   "cell_type": "code",
   "execution_count": null,
   "metadata": {},
   "outputs": [],
   "source": [
    "# Get all files in working extraction data directory\n",
    "path = os.getcwd()\n",
    "path = path.replace(\"notebooks\",\"data\")+'\\\\'+'extraction-files'\n",
    "csv_files = glob.glob(os.path.join(path,\"*.csv\"))"
   ]
  },
  {
   "cell_type": "code",
   "execution_count": null,
   "metadata": {},
   "outputs": [],
   "source": [
    "# bringing in all new files\n",
    "extract_df = pd.DataFrame()\n",
    "for file in csv_files:\n",
    "    df = pd.read_csv(file)\n",
    "    frames = [extract_df, df]\n",
    "    extract_df = pd.concat(frames)"
   ]
  },
  {
   "cell_type": "code",
   "execution_count": null,
   "metadata": {},
   "outputs": [],
   "source": [
    "# Cosmetic changes and dropping duplicaes that snuck in on import\n",
    "extract_df = extract_df.rename(columns={\"Unnamed: 0\": \"Season #\"})\n",
    "extract_df = extract_df.drop(columns=[\"LEAGUE_ID\", \"GS\"])\n",
    "extract_df = extract_df.drop_duplicates()"
   ]
  },
  {
   "cell_type": "code",
   "execution_count": 5,
   "metadata": {},
   "outputs": [],
   "source": [
    "# Get all files in working evergreen data directory\n",
    "path = os.getcwd()\n",
    "path = path.replace(\"notebooks\",\"data\")+'\\\\'+'evergreen-files'\n",
    "csv_files = glob.glob(os.path.join(path,\"*.csv\"))"
   ]
  },
  {
   "cell_type": "code",
   "execution_count": 6,
   "metadata": {},
   "outputs": [],
   "source": [
    "# bring in evergreen file\n",
    "evergreen_df = pd.DataFrame()\n",
    "for file in csv_files:\n",
    "    df = pd.read_csv(file)\n",
    "    frames = [evergreen_df, df]\n",
    "    evergreen_df = pd.concat(frames)"
   ]
  },
  {
   "cell_type": "code",
   "execution_count": 7,
   "metadata": {},
   "outputs": [],
   "source": [
    "evergreen_df = evergreen_df.rename(columns={\"Unnamed: 0\": \"Rank\"})\n",
    "evergreen_df = evergreen_df.drop_duplicates()\n",
    "evergreen_df = evergreen_df.drop(columns=[\"Rank\", \"RANK\",'EFF','AST_TOV','STL_TOV'])\n",
    "evergreen_df.insert(0, \"Season #\", \"Now\")\n",
    "evergreen_df.insert(3, \"SEASON_ID\", \"2022-23\")"
   ]
  },
  {
   "cell_type": "code",
   "execution_count": 8,
   "metadata": {},
   "outputs": [],
   "source": [
    "extract_df = extract_df[(extract_df[\"SEASON_ID\"] != \"2022-23\")]"
   ]
  },
  {
   "cell_type": "code",
   "execution_count": 9,
   "metadata": {},
   "outputs": [],
   "source": [
    "# # MWAR Formula Coefficients:\n",
    "# coFGM = 2\n",
    "# coFGA = -1.2\n",
    "# coFG3M = 1\n",
    "# coFG3A = -0.4\n",
    "# coFTM = 1\n",
    "# coFTA = -1\n",
    "# coDREB = 1.5\n",
    "# coOREB = 2\n",
    "# coAST = 2.5\n",
    "# coTOV = -3\n",
    "# coSTL = 2\n",
    "# coBLK = 2\n",
    "# coPF = -0.5\n",
    "# coPTS = 1 \n",
    "\n",
    "# totFGM = coFGM * full_df[\"FGM\"]\n",
    "# totFGA = coFGA * full_df[\"FGA\"]\n",
    "# totFG3M = coFG3M * full_df[\"FG3M\"]\n",
    "# totFG3A = coFG3A * full_df[\"FG3A\"]\n",
    "# totFTM = coFTM * full_df[\"FTM\"]\n",
    "# totFTA = coFTA * full_df[\"FTA\"]\n",
    "# totDREB = coDREB * full_df[\"DREB\"]\n",
    "# totOREB = coOREB * full_df[\"OREB\"]\n",
    "# totAST = coAST * full_df[\"AST\"]\n",
    "# totTOV = coTOV * full_df[\"TOV\"]\n",
    "# totSTL = coSTL * full_df[\"STL\"]\n",
    "# totBLK = coBLK * full_df[\"BLK\"]\n",
    "# totPF = coPF * full_df[\"PF\"]\n",
    "# totPTS = coPTS * full_df[\"PTS\"]\n",
    "# totMIN = full_df[\"MIN\"] - 18\n",
    "\n",
    "# full_df[\"MWAR\"] = totFGM + totFGA + totFG3A + totFG3M + totFTM + totFTA + totDREB + totOREB + totAST + totTOV + totSTL + totBLK + totPF + totPTS + totMIN"
   ]
  },
  {
   "cell_type": "code",
   "execution_count": 10,
   "metadata": {},
   "outputs": [],
   "source": [
    "full_df = pd.DataFrame(np.vstack([extract_df, evergreen_df]), columns=evergreen_df.columns)"
   ]
  },
  {
   "cell_type": "code",
   "execution_count": 11,
   "metadata": {},
   "outputs": [],
   "source": [
    "FGMA = (full_df[\"FGA\"] - full_df[\"FGM\"])*1.25\n",
    "FG3MA = (full_df[\"FG3A\"] - full_df[\"FG3M\"])*1.25\n",
    "FTMA = (full_df[\"FTA\"]-full_df[\"FTM\"])*0.9\n",
    "REB = 3*full_df[\"OREB\"] + 2*full_df[\"DREB\"]\n",
    "ATR = 3*(full_df[\"AST\"]-full_df[\"TOV\"])\n",
    "STB = 2*(full_df[\"BLK\"]+full_df[\"STL\"])\n",
    "PF = full_df[\"PF\"]*-0.5\n",
    "PTS = full_df[\"PTS\"]*1\n",
    "MIN = full_df[\"MIN\"] - 18*full_df[\"GP\"]\n",
    "\n",
    "full_df[\"MOWAR\"] = FGMA + FG3MA + FTMA + PTS\n",
    "full_df[\"MDWAR\"] = STB + PF\n",
    "full_df[\"MPWAR\"] = ATR\n",
    "full_df[\"MIWAR\"] = REB + MIN\n",
    "full_df[\"MWAR\"] = FGMA + FG3MA + FTMA + REB + ATR + STB + PF + PTS + MIN\n",
    "full_df[\"MWARPM\"] = full_df[\"MWAR\"]/full_df[\"MIN\"]\n",
    "full_df[\"MWARPG\"] = full_df[\"MWAR\"]/full_df[\"GP\"]"
   ]
  },
  {
   "cell_type": "code",
   "execution_count": 12,
   "metadata": {},
   "outputs": [],
   "source": [
    "# full_2021_test = full_df.iloc[:,[2,3,8,-8,-7,-6,-5,-4,-3,-2,-1]][(full_df[\"SEASON_ID\"] == \"2022-23\") & (full_df[\"GP\"] > 20)].sort_values(\"MWARPM\", ascending = False)"
   ]
  },
  {
   "cell_type": "code",
   "execution_count": 14,
   "metadata": {},
   "outputs": [],
   "source": [
    "file_path = \"C:/Github Repo/Mario-Jupyter-Codespace/data/basketballProject/analysis-files/\"\n",
    "# file_path = \"../../data/basketballProject/analysis-files/\"\n",
    "file_name = \"consolidated_evergreen_stats\"\n",
    "file_extension = \".csv\"\n",
    "full_path = file_path + file_name + file_extension\n",
    "full_df.to_csv(full_path)"
   ]
  }
 ],
 "metadata": {
  "kernelspec": {
   "display_name": "Python 3",
   "language": "python",
   "name": "python3"
  },
  "language_info": {
   "codemirror_mode": {
    "name": "ipython",
    "version": 3
   },
   "file_extension": ".py",
   "mimetype": "text/x-python",
   "name": "python",
   "nbconvert_exporter": "python",
   "pygments_lexer": "ipython3",
   "version": "3.11.1 (tags/v3.11.1:a7a450f, Dec  6 2022, 19:58:39) [MSC v.1934 64 bit (AMD64)]"
  },
  "orig_nbformat": 4,
  "vscode": {
   "interpreter": {
    "hash": "214b9567dfb3af3fec25f201254d742456ae26af278166741b3d1f08044ae781"
   }
  }
 },
 "nbformat": 4,
 "nbformat_minor": 2
}
