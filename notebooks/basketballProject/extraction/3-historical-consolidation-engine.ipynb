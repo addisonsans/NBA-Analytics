{
 "cells": [
  {
   "cell_type": "code",
   "execution_count": 1,
   "metadata": {},
   "outputs": [],
   "source": [
    "# import python libraries and nba library\n",
    "import numpy as np\n",
    "import nba_api as nba\n",
    "from matplotlib import pyplot as plt\n",
    "import pandas as pd\n",
    "import socket\n",
    "import logging\n",
    "import os\n",
    "import glob"
   ]
  },
  {
   "cell_type": "code",
   "execution_count": 2,
   "metadata": {},
   "outputs": [],
   "source": [
    "# Get all files in working extraction data directory\n",
    "path = \"C:/Github Repo/NBA-Analytics/data/basketballProject/historical-extraction-files/\"\n",
    "csv_files = glob.glob(os.path.join(path,\"*.csv\"))\n",
    "\n",
    "# bringing in all new files\n",
    "extract_df = pd.DataFrame()\n",
    "for file in csv_files:\n",
    "    df = pd.read_csv(file, index_col=1)\n",
    "    frames = [extract_df, df]\n",
    "    extract_df = pd.concat(frames)"
   ]
  },
  {
   "cell_type": "code",
   "execution_count": 3,
   "metadata": {},
   "outputs": [],
   "source": [
    "# Get all files in working evergreen data directory\n",
    "path = \"C:/Github Repo/NBA-Analytics/data/basketballProject/evergreen-files/\"\n",
    "csv_files = glob.glob(os.path.join(path,\"*.csv\"))\n",
    "\n",
    "# bring in evergreen file\n",
    "evergreen_df = pd.DataFrame()\n",
    "for file in csv_files:\n",
    "    df = pd.read_csv(file, index_col=1)\n",
    "    frames = [evergreen_df, df]\n",
    "    evergreen_df = pd.concat(frames)"
   ]
  },
  {
   "cell_type": "code",
   "execution_count": 4,
   "metadata": {},
   "outputs": [],
   "source": [
    "# Cosmetic changes and dropping duplicates that snuck in on import\n",
    "extract_df = extract_df.rename(columns={\"Unnamed: 0\": \"Season #\"})\n",
    "extract_df = extract_df.drop(columns=[\"LEAGUE_ID\", \"GS\"], axis=1)\n",
    "extract_df = extract_df.drop_duplicates()\n",
    "\n",
    "evergreen_df = evergreen_df.drop_duplicates()\n",
    "evergreen_df = evergreen_df.drop(columns=[\"Unnamed: 0\", \"RANK\",'EFF','AST_TOV','STL_TOV'], axis=1)\n",
    "evergreen_df.insert(0, \"Season #\", -1)\n",
    "evergreen_df.insert(3, \"SEASON_ID\", \"2022-23\")\n",
    "evergreen_df.insert(6,\"Age\",0)"
   ]
  },
  {
   "cell_type": "code",
   "execution_count": 5,
   "metadata": {},
   "outputs": [],
   "source": [
    "extract_df = extract_df[(extract_df[\"SEASON_ID\"] != \"2022-23\")]"
   ]
  },
  {
   "cell_type": "code",
   "execution_count": 6,
   "metadata": {},
   "outputs": [],
   "source": [
    "full_df = pd.DataFrame(np.vstack([extract_df, evergreen_df]), columns=evergreen_df.columns)"
   ]
  },
  {
   "cell_type": "code",
   "execution_count": 7,
   "metadata": {},
   "outputs": [],
   "source": [
    "FGMA = (full_df[\"FGA\"] - full_df[\"FGM\"])*1.25\n",
    "FG3MA = (full_df[\"FG3A\"] - full_df[\"FG3M\"])*1.25\n",
    "FTMA = (full_df[\"FTA\"]-full_df[\"FTM\"])*0.9\n",
    "REB = 3*full_df[\"OREB\"] + 2*full_df[\"DREB\"]\n",
    "ATR = 3*(full_df[\"AST\"]-full_df[\"TOV\"])\n",
    "STB = 2*(full_df[\"BLK\"]+full_df[\"STL\"])\n",
    "PF = full_df[\"PF\"]*-0.5\n",
    "PTS = full_df[\"PTS\"]*1\n",
    "MIN = full_df[\"MIN\"] - 18*full_df[\"GP\"]\n",
    "\n",
    "full_df[\"MOWAR\"] = FGMA + FG3MA + FTMA + PTS\n",
    "full_df[\"MDWAR\"] = STB + PF\n",
    "full_df[\"MPWAR\"] = ATR\n",
    "full_df[\"MIWAR\"] = REB + MIN\n",
    "full_df[\"MWAR\"] = FGMA + FG3MA + FTMA + REB + ATR + STB + PF + PTS + MIN\n",
    "try:\n",
    "    full_df[\"MWARPM\"] = full_df[\"MWAR\"]/full_df[\"MIN\"]\n",
    "except:\n",
    "    full_df[\"MWARPM\"] = 0\n",
    "try:\n",
    "    full_df[\"MWARPG\"] = full_df[\"MWAR\"]/full_df[\"GP\"]\n",
    "except:\n",
    "    full_df[\"MWARPG\"] = 0"
   ]
  },
  {
   "cell_type": "code",
   "execution_count": 8,
   "metadata": {},
   "outputs": [],
   "source": [
    "file_path = \"C:/Github Repo/NBA-Analytics/data/basketballProject/consolidated-files/\"\n",
    "# file_path = \"../../data/basketballProject/analysis-files/\"\n",
    "file_name = \"consolidated_historical_stats\"\n",
    "file_extension = \".csv\"\n",
    "full_path = file_path + file_name + file_extension\n",
    "full_df.to_csv(full_path)"
   ]
  }
 ],
 "metadata": {
  "kernelspec": {
   "display_name": "Python 3",
   "language": "python",
   "name": "python3"
  },
  "language_info": {
   "codemirror_mode": {
    "name": "ipython",
    "version": 3
   },
   "file_extension": ".py",
   "mimetype": "text/x-python",
   "name": "python",
   "nbconvert_exporter": "python",
   "pygments_lexer": "ipython3",
   "version": "3.11.1"
  },
  "orig_nbformat": 4,
  "vscode": {
   "interpreter": {
    "hash": "214b9567dfb3af3fec25f201254d742456ae26af278166741b3d1f08044ae781"
   }
  }
 },
 "nbformat": 4,
 "nbformat_minor": 2
}
