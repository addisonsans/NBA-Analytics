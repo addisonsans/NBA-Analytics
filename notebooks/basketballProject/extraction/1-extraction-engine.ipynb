{
 "cells": [
  {
   "attachments": {},
   "cell_type": "markdown",
   "metadata": {},
   "source": [
    "# Main Extraction Engine. Run as many times as needed to get full list of players. "
   ]
  },
  {
   "cell_type": "code",
   "execution_count": 30,
   "metadata": {},
   "outputs": [],
   "source": [
    "# import python libraries and nba library\n",
    "import pandas as np\n",
    "import nba_api as nba\n",
    "from matplotlib import pyplot as plt\n",
    "import pandas as pd\n",
    "import socket\n",
    "import logging\n",
    "import os\n",
    "import glob"
   ]
  },
  {
   "cell_type": "code",
   "execution_count": 40,
   "metadata": {},
   "outputs": [
    {
     "name": "stdout",
     "output_type": "stream",
     "text": [
      "c:\\Github Repo\\Mario-Jupyter-Codespace\\data\\basketballProject\\extraction-files\n"
     ]
    }
   ],
   "source": [
    "# Get all files in working data directory\n",
    "path = os.getcwd()\n",
    "path = path.replace(\"notebooks\",\"data\")+'\\\\'+'extraction-files'\n",
    "csv_files = glob.glob(os.path.join(path,\"*.csv\"))\n",
    "write_path = \"C:/Github Repo/NBA-Analytics/data/basketballProject/extraction-files/nba_data_\"\n",
    "# write_path = \"../../data/basketballProject/extraction-files/nba_data_\""
   ]
  },
  {
   "cell_type": "code",
   "execution_count": 41,
   "metadata": {},
   "outputs": [],
   "source": [
    "# Check what players you have already analyzed to avoid duplication\n",
    "check_df = pd.DataFrame()\n",
    "for file in csv_files:\n",
    "\n",
    "    df = pd.read_csv(file)\n",
    "    frames = [check_df, df]\n",
    "    check_df = pd.concat(frames)"
   ]
  },
  {
   "cell_type": "code",
   "execution_count": 33,
   "metadata": {},
   "outputs": [],
   "source": [
    "unique_ids = check_df.PLAYER_ID.unique()"
   ]
  },
  {
   "cell_type": "code",
   "execution_count": 34,
   "metadata": {},
   "outputs": [],
   "source": [
    "# import teams, players, and sort them into active or all players\n",
    "from nba_api.stats.static import teams, players\n",
    "nba_players = players.get_players()\n",
    "active_players = players.get_active_players()\n",
    "teams = teams.get_teams()"
   ]
  },
  {
   "cell_type": "code",
   "execution_count": 35,
   "metadata": {},
   "outputs": [],
   "source": [
    "# import use-case specific functions\n",
    "from nba_api.stats.endpoints import playercareerstats"
   ]
  },
  {
   "cell_type": "code",
   "execution_count": 36,
   "metadata": {},
   "outputs": [],
   "source": [
    "# Add entry for each player on whether they have been analyzed or not. \n",
    "# Default is not analyzed\n",
    "for player in active_players:\n",
    "    player['Parsed ?'] = False\n",
    "    if player[\"id\"] in unique_ids:\n",
    "        player[\"Parsed ?\"] = True"
   ]
  },
  {
   "cell_type": "code",
   "execution_count": 37,
   "metadata": {},
   "outputs": [],
   "source": [
    "# Initialize collection dataframe\n",
    "master_list = pd.DataFrame()\n",
    "\n",
    "# Create temp dataframe and initialize count to serve as a staging \n",
    "# Dataframe and break up the merging into small batches\n",
    "temp_df = pd.DataFrame()\n",
    "count = 0"
   ]
  },
  {
   "cell_type": "code",
   "execution_count": 38,
   "metadata": {},
   "outputs": [
    {
     "name": "stdout",
     "output_type": "stream",
     "text": [
      "LiAngelo Ball\n",
      "Jules Bernard\n",
      "Marcus Bingham Jr.\n",
      "Jamaree Bouyea\n",
      "Gabe Brown\n",
      "Jalen Crutcher\n",
      "Darius Days\n",
      "Anthony Duruji\n",
      "Abdul Gaddy\n",
      "Collin Gillespie\n",
      "Grant Golden\n",
      "RaiQuan Gray\n",
      "Mouhamadou Gueye\n",
      "Chet Holmgren\n",
      "Matt Hurt\n",
      "Quenton Jackson\n",
      "Drake Jeffries\n",
      "Johnny Juzang\n",
      "Noah Kirkwood\n",
      "Justin Lewis\n",
      "Temp Full - Resetting\n",
      "Makur Maker\n",
      "Isaiah Miller\n",
      "Trhae Mitchell\n",
      "Nate Pierre-Louis\n",
      "Daeqwon Plowden\n",
      "Lester Quinones\n",
      "Jared Rhoden\n",
      "Jaylen Sims\n",
      "Pat Spencer\n",
      "DJ Stewart\n",
      "Stanley Umude\n",
      "Luca Vildoza\n",
      "Jeenathan Williams\n",
      "Cody Zeller\n",
      "Ivica Zubac\n"
     ]
    }
   ],
   "source": [
    "# Parse thru each active player\n",
    "first_id = 0\n",
    "last_id = 0\n",
    "try:\n",
    "    for player in active_players:\n",
    "\n",
    "        # Check if they have been already analyzed\n",
    "        if player['Parsed ?'] == True:\n",
    "            pass\n",
    "        \n",
    "        # If they haven't, proceed\n",
    "        else:\n",
    "            passedId = player['id']\n",
    "            player_name = player[\"full_name\"]\n",
    "\n",
    "            # Get player stats based on their ID\n",
    "            career_stats = playercareerstats.PlayerCareerStats(player_id = passedId).get_data_frames()[0]\n",
    "            \n",
    "            # Get ID of first and last players analyzed for file naming purposes\n",
    "            if first_id == 0:\n",
    "                first_id = passedId\n",
    "            last_id = passedId\n",
    "\n",
    "            # Add player names to resulting dataframe to keep track of players\n",
    "            career_stats.insert(1,\"full_name\",player_name)\n",
    "\n",
    "            # Append resulting dataframe to temp dataframe\n",
    "            frames = [temp_df,career_stats]\n",
    "            temp_df = pd.concat(frames)\n",
    "\n",
    "            # Set analyzed flag to true\n",
    "            player['Parsed ?'] = True\n",
    "            count = count + 1\n",
    "\n",
    "            # Once enough volume is reached in the temp dataframe, append it to the main and re-initialize the dataframe\n",
    "            if (count%20) == 0:\n",
    "                frames = [master_list, temp_df]\n",
    "                master_list = pd.concat(frames)\n",
    "                temp_df = pd.DataFrame()\n",
    "                print(\"Temp Full - Resetting\")\n",
    "except:\n",
    "    print(\"TimeoutError\")"
   ]
  },
  {
   "cell_type": "code",
   "execution_count": 39,
   "metadata": {},
   "outputs": [],
   "source": [
    "if first_id == 0:\n",
    "    pass\n",
    "else:\n",
    "    master_list.to_csv(write_path+str(first_id)+\"to\"+str(last_id)+\".csv\")"
   ]
  },
  {
   "cell_type": "code",
   "execution_count": null,
   "metadata": {},
   "outputs": [],
   "source": []
  }
 ],
 "metadata": {
  "kernelspec": {
   "display_name": "Python 3",
   "language": "python",
   "name": "python3"
  },
  "language_info": {
   "codemirror_mode": {
    "name": "ipython",
    "version": 3
   },
   "file_extension": ".py",
   "mimetype": "text/x-python",
   "name": "python",
   "nbconvert_exporter": "python",
   "pygments_lexer": "ipython3",
   "version": "3.11.1 (tags/v3.11.1:a7a450f, Dec  6 2022, 19:58:39) [MSC v.1934 64 bit (AMD64)]"
  },
  "orig_nbformat": 4,
  "vscode": {
   "interpreter": {
    "hash": "214b9567dfb3af3fec25f201254d742456ae26af278166741b3d1f08044ae781"
   }
  }
 },
 "nbformat": 4,
 "nbformat_minor": 2
}
