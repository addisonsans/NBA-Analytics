{
 "cells": [
  {
   "attachments": {},
   "cell_type": "markdown",
   "metadata": {},
   "source": [
    "# Main Historical Extraction Engine\n",
    "Run as many times as needed to get full list of players. \n",
    "\n",
    "Warning: Full extract takes >3 hours"
   ]
  },
  {
   "cell_type": "code",
   "execution_count": 75,
   "metadata": {},
   "outputs": [],
   "source": [
    "# import python libraries and nba library\n",
    "import pandas as np\n",
    "import nba_api as nba\n",
    "from matplotlib import pyplot as plt\n",
    "import pandas as pd\n",
    "import socket\n",
    "import logging\n",
    "import os\n",
    "import glob"
   ]
  },
  {
   "cell_type": "code",
   "execution_count": 76,
   "metadata": {},
   "outputs": [],
   "source": [
    "# Get all files in working data directory\n",
    "path = os.getcwd()\n",
    "path = path.replace(\"notebooks\\\\basketballProject\\\\extraction\",\"data\\\\basketballProject\")+'\\\\'+'historical-extraction-files\\\\'\n",
    "csv_files = glob.glob(os.path.join(path,\"*.csv\"))\n",
    "write_path = \"C:/Github Repo/NBA-Analytics/data/basketballProject/historical-extraction-files/nba_data_\"\n",
    "# write_path = \"../../data/basketballProject/historical-extraction-files/nba_data_\""
   ]
  },
  {
   "cell_type": "code",
   "execution_count": 77,
   "metadata": {},
   "outputs": [],
   "source": [
    "# Check what players you have already analyzed to avoid duplication\n",
    "check_df = pd.DataFrame()\n",
    "for file in csv_files:\n",
    "\n",
    "    df = pd.read_csv(file)\n",
    "    frames = [check_df, df]\n",
    "    check_df = pd.concat(frames)"
   ]
  },
  {
   "cell_type": "code",
   "execution_count": 78,
   "metadata": {},
   "outputs": [],
   "source": [
    "try:\n",
    "    unique_ids = check_df.PLAYER_ID.unique()\n",
    "except:\n",
    "    pass"
   ]
  },
  {
   "cell_type": "code",
   "execution_count": 79,
   "metadata": {},
   "outputs": [],
   "source": [
    "# import teams, players, and sort them into active or all players\n",
    "from nba_api.stats.static import teams, players\n",
    "nba_players = players.get_players()\n",
    "# active_players = players.get_active_players()\n",
    "teams = teams.get_teams()"
   ]
  },
  {
   "cell_type": "code",
   "execution_count": 80,
   "metadata": {},
   "outputs": [],
   "source": [
    "# import use-case specific functions\n",
    "from nba_api.stats.endpoints import playercareerstats"
   ]
  },
  {
   "cell_type": "code",
   "execution_count": 81,
   "metadata": {},
   "outputs": [],
   "source": [
    "# Add entry for each player on whether they have been analyzed or not. \n",
    "# Default is not analyzed\n",
    "for player in nba_players:\n",
    "    player['Parsed ?'] = False\n",
    "    try:\n",
    "        if player[\"id\"] in unique_ids:\n",
    "            player[\"Parsed ?\"] = True\n",
    "    except:\n",
    "        pass"
   ]
  },
  {
   "cell_type": "code",
   "execution_count": 82,
   "metadata": {},
   "outputs": [],
   "source": [
    "# Initialize collection dataframe\n",
    "master_list = pd.DataFrame()\n",
    "\n",
    "# Create temp dataframe and initialize count to serve as a staging \n",
    "# Dataframe and break up the merging into small batches\n",
    "temp_df = pd.DataFrame()\n",
    "count = 0"
   ]
  },
  {
   "cell_type": "code",
   "execution_count": 83,
   "metadata": {},
   "outputs": [
    {
     "name": "stdout",
     "output_type": "stream",
     "text": [
      "Temp Full - Resetting\n",
      "Temp Full - Resetting\n",
      "Temp Full - Resetting\n",
      "Temp Full - Resetting\n",
      "Temp Full - Resetting\n",
      "Temp Full - Resetting\n",
      "Temp Full - Resetting\n",
      "Temp Full - Resetting\n",
      "Temp Full - Resetting\n",
      "Temp Full - Resetting\n",
      "Temp Full - Resetting\n",
      "Temp Full - Resetting\n",
      "Temp Full - Resetting\n",
      "Temp Full - Resetting\n",
      "Temp Full - Resetting\n",
      "Temp Full - Resetting\n",
      "Temp Full - Resetting\n",
      "Temp Full - Resetting\n",
      "Temp Full - Resetting\n",
      "Temp Full - Resetting\n",
      "Temp Full - Resetting\n",
      "Temp Full - Resetting\n",
      "Temp Full - Resetting\n",
      "Temp Full - Resetting\n",
      "Temp Full - Resetting\n",
      "Temp Full - Resetting\n",
      "Temp Full - Resetting\n",
      "Temp Full - Resetting\n",
      "Temp Full - Resetting\n",
      "Temp Full - Resetting\n",
      "Temp Full - Resetting\n",
      "Temp Full - Resetting\n",
      "Temp Full - Resetting\n",
      "Temp Full - Resetting\n",
      "Temp Full - Resetting\n",
      "Temp Full - Resetting\n",
      "Temp Full - Resetting\n",
      "Temp Full - Resetting\n",
      "Temp Full - Resetting\n",
      "Temp Full - Resetting\n",
      "Temp Full - Resetting\n",
      "Temp Full - Resetting\n",
      "Temp Full - Resetting\n",
      "Temp Full - Resetting\n",
      "Temp Full - Resetting\n",
      "Temp Full - Resetting\n",
      "Temp Full - Resetting\n",
      "Temp Full - Resetting\n",
      "Temp Full - Resetting\n",
      "Temp Full - Resetting\n",
      "Temp Full - Resetting\n",
      "Temp Full - Resetting\n",
      "Temp Full - Resetting\n",
      "Temp Full - Resetting\n",
      "Temp Full - Resetting\n",
      "Temp Full - Resetting\n",
      "Temp Full - Resetting\n",
      "Temp Full - Resetting\n",
      "Temp Full - Resetting\n",
      "Temp Full - Resetting\n",
      "Temp Full - Resetting\n",
      "TimeoutError\n"
     ]
    }
   ],
   "source": [
    "# Parse thru each active player\n",
    "first_id = 0\n",
    "last_id = 0\n",
    "try:\n",
    "    for player in nba_players:\n",
    "\n",
    "        # Check if they have been already analyzed\n",
    "        if player['Parsed ?'] == True:\n",
    "            pass\n",
    "        \n",
    "        # If they haven't, proceed\n",
    "        else:\n",
    "            passedId = player['id']\n",
    "            player_name = player[\"full_name\"]\n",
    "            # Get player stats based on their ID\n",
    "            career_stats = playercareerstats.PlayerCareerStats(player_id = passedId).get_data_frames()[0]\n",
    "            \n",
    "            # Get ID of first and last players analyzed for file naming purposes\n",
    "            if first_id == 0:\n",
    "                first_id = passedId\n",
    "            last_id = passedId\n",
    "\n",
    "            # Add player names to resulting dataframe to keep track of players\n",
    "            career_stats.insert(1,\"full_name\",player_name)\n",
    "\n",
    "            # Append resulting dataframe to temp dataframe\n",
    "            frames = [temp_df,career_stats]\n",
    "            temp_df = pd.concat(frames)\n",
    "\n",
    "            # Set analyzed flag to true\n",
    "            player['Parsed ?'] = True\n",
    "            count = count + 1\n",
    "\n",
    "            # Once enough volume is reached in the temp dataframe, append it to the main and re-initialize the dataframe\n",
    "            if (count%20) == 0:\n",
    "                frames = [master_list, temp_df]\n",
    "                master_list = pd.concat(frames)\n",
    "                temp_df = pd.DataFrame()\n",
    "                print(\"Temp Full - Resetting\")\n",
    "except:\n",
    "    frames = [master_list, temp_df]\n",
    "    master_list = pd.concat(frames)\n",
    "    temp_df = pd.DataFrame()\n",
    "    print(\"Temp Full - Resetting\")\n",
    "    print(\"TimeoutError\")"
   ]
  },
  {
   "cell_type": "code",
   "execution_count": 84,
   "metadata": {},
   "outputs": [],
   "source": [
    "if first_id == 0:\n",
    "    print(\"empty\")\n",
    "    pass\n",
    "else:\n",
    "    master_list.to_csv(write_path+str(first_id)+\"to\"+str(last_id)+\".csv\")"
   ]
  }
 ],
 "metadata": {
  "kernelspec": {
   "display_name": "Python 3",
   "language": "python",
   "name": "python3"
  },
  "language_info": {
   "codemirror_mode": {
    "name": "ipython",
    "version": 3
   },
   "file_extension": ".py",
   "mimetype": "text/x-python",
   "name": "python",
   "nbconvert_exporter": "python",
   "pygments_lexer": "ipython3",
   "version": "3.11.1"
  },
  "orig_nbformat": 4,
  "vscode": {
   "interpreter": {
    "hash": "214b9567dfb3af3fec25f201254d742456ae26af278166741b3d1f08044ae781"
   }
  }
 },
 "nbformat": 4,
 "nbformat_minor": 2
}
