{
 "cells": [
  {
   "attachments": {},
   "cell_type": "markdown",
   "metadata": {},
   "source": [
    "# Main Extraction Engine. Run as many times as needed to get full list of players. "
   ]
  },
  {
   "cell_type": "code",
   "execution_count": 11,
   "metadata": {},
   "outputs": [],
   "source": [
    "# import python libraries and nba library\n",
    "import pandas as np\n",
    "import nba_api as nba\n",
    "from matplotlib import pyplot as plt\n",
    "import pandas as pd\n",
    "import socket\n",
    "import logging\n",
    "import os\n",
    "import glob"
   ]
  },
  {
   "cell_type": "code",
   "execution_count": 12,
   "metadata": {},
   "outputs": [],
   "source": [
    "# Get all files in working data directory\n",
    "path = os.getcwd()\n",
    "path = path.replace(\"notebooks\",\"data\")\n",
    "csv_files = glob.glob(os.path.join(path,\"*.csv\"))"
   ]
  },
  {
   "cell_type": "code",
   "execution_count": 13,
   "metadata": {},
   "outputs": [],
   "source": [
    "check_df = pd.DataFrame()\n",
    "for file in csv_files:\n",
    "\n",
    "    df = pd.read_csv(file)\n",
    "    frames = [check_df, df]\n",
    "    check_df = pd.concat(frames)"
   ]
  },
  {
   "cell_type": "code",
   "execution_count": 14,
   "metadata": {},
   "outputs": [
    {
     "name": "stdout",
     "output_type": "stream",
     "text": [
      "[1631260  201980  203110  203210 1630224 1629750  201145 1630182 1631100\n",
      "  201933 1629656 1629060 1630169 1631160 1629788 1630181  203501  201935\n",
      " 1630702 1631199 1626149  203914 1630223  203925 1630284  202699 1627885\n",
      " 1628404 1628392    2617 1630573 1629637 1630165  202330 1627823 1626195\n",
      " 1629639 1627741 1629312  201588 1630792 1630207 1628988  201950  203200\n",
      " 1626158  201143 1629659 1627863 1631216 1631309 1628989 1630643 1630624\n",
      " 1629631 1630538  201586    2738  204060 1627742  202681 1628371 1631093\n",
      " 1630543 1628367 1628382  202704 1628991    2544 1629610 1629660 1630198\n",
      " 1628993 1629661 1630552  201949 1629640 1630553 1626169  203999 1630637\n",
      " 1627745 1630529 1630539 1630200 1626145 1627884  201599  202709 1631107\n",
      " 1629662 1626163 1631211 1628379 1631117 1630296 1630557 1628467 1630233\n",
      " 1628995 1631132 1629723 1627788 1628436 1630249 1630228 1628398 1631222\n",
      "  203897 1630237 1629111 1629641 1630639 1627774 1627747 1627814  203458\n",
      "  202695 1630184  203081 1629642 1630587 1631254 1626172  201572  201577\n",
      "  201567  200768 1627789 1626168 1630572 1629611 1630544 1626246 1628374\n",
      " 1630230 1628997 1628998 1629103 1631213 1630231 1629726 1631097  202083\n",
      " 1630178 1630219 1630540  203468  204456 1630183 1629667  203926 1630253\n",
      "  201580 1631121  203585 1629162 1629001 1630241 1629002  203114  201988\n",
      " 1629003 1631169 1630558 1628378 1630596 1630600 1631320 1628370 1630541\n",
      " 1629875 1631111 1629630  202693 1628420  202694 1628539 1630530 1627749\n",
      " 1627750 1631099  203488 1629004 1626204 1629614 1630612 1630174  203526\n",
      " 1627777 1630227 1630192  203457 1629669 1628373 1629134  203994 1628021\n",
      " 1629670 1626220 1629643 1629006 1630168 1630171 1629644  203506  203482\n",
      " 1630647 1626224 1626162 1629672  101108 1626166 1627780 1630691 1629033\n",
      " 1630590  203486 1627751 1630197 1629673 1629645 1629008  203490 1626171\n",
      "  204001  203939 1626181 1630554 1630563 1627752 1630202 1629674 1630193\n",
      " 1626184  203944 1630559 1629629 1628432 1630194 1629675 1630208 1626196\n",
      "  203085 1629130 1629010 1629011 1631115 1630526 1629676 1631223 1631157\n",
      "  201565  203082 1626179  201937 1626156 1630346 1627734  203967 1630846\n",
      " 1630648 1629678  203471 1630206 1631220 1630578 1629012 1629013 1630549\n",
      " 1631101 1627783 1627732 1630250 1629014 1630579 1629686 1630606  203935\n",
      " 1630696  202397 1630188 1628372 1631095 1630270 1631110 1630531 1630205\n",
      " 1630191 1629622 1630591 1628410 1631306 1630256 1628369 1630678  202066\n",
      " 1631207 1628464 1630271 1630560  202691 1630550 1629680 1629681 1630214\n",
      " 1630225 1630167 1629308 1626157 1629018  200782 1626167  202685 1627832\n",
      " 1629020 1630170 1629216  203943  202696 1629731 1630532 1629021 1630688\n",
      " 1631133  202689 1629022  202322  203933 1629023 1630613 1631102 1629139\n",
      " 1630322 1630570 1631212 1629683 1631104  201566 1629632 1628401 1631298\n",
      " 1630580 1630598  203952 1629623 1631214 1629684 1631114 1631119 1629026\n",
      " 1631109 1630172 1630533 1629057 1631246 1629627 1628391 1629685 1626159\n",
      " 1630164 1626174 1626153 1630593  201152 1629027 1630209 1628418  203493\n",
      "  203504  202692 1630215  202710 1631288  203484 1628427 1629962  203991\n",
      " 1630176 1628975 1628976 1627936 1626161 1630577 1630551 1631113 1629597\n",
      " 1629185 1627737 1631108 1630528 1629634  203903 1629651 1629599 1628381\n",
      " 1628380  201144 1626192 1626188 1630536  203496 1628470  203109 1629633\n",
      " 1630595  203552  201939 1630700 1630268  203076 1631098 1629056 1631120\n",
      "  201942  203473  203521 1628978 1631217 1629603 1628977  203476 1631172\n",
      "  203915 1629029 1628416 1629652 1630245 1629653 1630288 1628408  201609\n",
      "  203083 1630537 1630561  201142 1631105 1631106 1630162 1630556 1629604\n",
      " 1631165  203954 1629234  202324 1628981 1627827 1630238 1630201 1631323\n",
      " 1627854 1630235 1630701  203095 1628368 1628365 1629117 1629655  201568\n",
      "  204038 1629636 1630585 1630586 1630568  200752  202331  201959 1630581\n",
      " 1628983 1630264  203497 1630692  203932  201569 1628984  203924 1628396\n",
      " 1631103 1631128 1628969 1629052 1627763 1628415 1628971 1627759 1631112\n",
      " 1629650 1630535 1629718 1628972 1628973 1630173  203500 1628389 1630534\n",
      " 1630583 1629638 1628960 1628386 1630631  203937  203507 1628961  203648\n",
      " 1630175 1628384 1627853 1630166 1629028 1628962 1628963 1631116 1630163\n",
      " 1628366 1628964 1631094 1630217 1630625 1631230  203084 1630567 1629628\n",
      "  203115 1629646 1628966  201587  203145 1629647  203078 1627736 1630699\n",
      "  202722  201976 1630180  203920 1629048  202687 1631205  203992  202711\n",
      " 1629626 1629716 1630195 1626164 1630527 1628449 1630547]\n"
     ]
    }
   ],
   "source": [
    "unique_ids = check_df.PLAYER_ID.unique()\n",
    "print(unique_ids)"
   ]
  },
  {
   "cell_type": "code",
   "execution_count": 15,
   "metadata": {},
   "outputs": [],
   "source": [
    "# import teams, players, and sort them into active or all players\n",
    "from nba_api.stats.static import teams, players\n",
    "nba_players = players.get_players()\n",
    "active_players = players.get_active_players()\n",
    "teams = teams.get_teams()"
   ]
  },
  {
   "cell_type": "code",
   "execution_count": 16,
   "metadata": {},
   "outputs": [],
   "source": [
    "# import use-case specific functions\n",
    "from nba_api.stats.endpoints import playercareerstats"
   ]
  },
  {
   "cell_type": "code",
   "execution_count": 17,
   "metadata": {},
   "outputs": [],
   "source": [
    "# Add entry for each player on whether they have been analyzed or not. \n",
    "# Default is not analyzed\n",
    "for player in active_players:\n",
    "    player['Parsed ?'] = False\n",
    "    if player[\"id\"] in unique_ids:\n",
    "        player[\"Parsed ?\"] = True"
   ]
  },
  {
   "cell_type": "code",
   "execution_count": 18,
   "metadata": {},
   "outputs": [],
   "source": [
    "# Initialize collection dataframe\n",
    "master_list = pd.DataFrame()\n",
    "\n",
    "# Create temp dataframe and initialize count to serve as a staging \n",
    "# Dataframe and break up the merging into small batches\n",
    "temp_df = pd.DataFrame()\n",
    "count = 0"
   ]
  },
  {
   "cell_type": "code",
   "execution_count": 19,
   "metadata": {},
   "outputs": [
    {
     "name": "stdout",
     "output_type": "stream",
     "text": [
      "LiAngelo Ball\n",
      "Jules Bernard\n",
      "Marcus Bingham Jr.\n",
      "Jamaree Bouyea\n",
      "Gabe Brown\n",
      "Jalen Crutcher\n",
      "Darius Days\n",
      "Anthony Duruji\n",
      "Abdul Gaddy\n",
      "Collin Gillespie\n",
      "Grant Golden\n",
      "RaiQuan Gray\n",
      "Mouhamadou Gueye\n",
      "Chet Holmgren\n",
      "Matt Hurt\n",
      "TimeoutError\n"
     ]
    }
   ],
   "source": [
    "# Parse thru each active player\n",
    "first_id = 0\n",
    "last_id = 0\n",
    "try:\n",
    "    for player in active_players:\n",
    "\n",
    "        # Check if they have been already analyzed\n",
    "        if player['Parsed ?'] == True:\n",
    "            pass\n",
    "        \n",
    "        # If they haven't, proceed\n",
    "        else:\n",
    "            passedId = player['id']\n",
    "            player_name = player[\"full_name\"]\n",
    "\n",
    "            # Get player stats based on their ID\n",
    "            career_stats = playercareerstats.PlayerCareerStats(player_id = passedId).get_data_frames()[0]\n",
    "            \n",
    "            # Get ID of first and last players analyzed for file naming purposes\n",
    "            if first_id == 0:\n",
    "                first_id = passedId\n",
    "            last_id = passedId\n",
    "\n",
    "            # Add player names to resulting dataframe to keep track of players\n",
    "            career_stats.insert(1,\"full_name\",player_name)\n",
    "\n",
    "            # Append resulting dataframe to temp dataframe\n",
    "            frames = [temp_df,career_stats]\n",
    "            temp_df = pd.concat(frames)\n",
    "\n",
    "            # Set analyzed flag to true\n",
    "            print(player_name)\n",
    "            player['Parsed ?'] = True\n",
    "            count = count + 1\n",
    "\n",
    "            # Once enough volume is reached in the temp dataframe, append it to the main and re-initialize the dataframe\n",
    "            if (count%20) == 0:\n",
    "                frames = [master_list, temp_df]\n",
    "                master_list = pd.concat(frames)\n",
    "                temp_df = pd.DataFrame()\n",
    "                print(\"Temp Full - Resetting\")\n",
    "except:\n",
    "    print(\"TimeoutError\")"
   ]
  },
  {
   "cell_type": "code",
   "execution_count": 20,
   "metadata": {},
   "outputs": [],
   "source": [
    "if first_id == 0:\n",
    "    pass\n",
    "else:\n",
    "    master_list.to_csv(\"C:/Github Repo/Mario-Jupyter-Codespace/data/basketballProject/nba_data_\"+str(first_id)+\"to\"+str(last_id)+\".csv\")"
   ]
  },
  {
   "cell_type": "code",
   "execution_count": null,
   "metadata": {},
   "outputs": [],
   "source": []
  }
 ],
 "metadata": {
  "kernelspec": {
   "display_name": "Python 3",
   "language": "python",
   "name": "python3"
  },
  "language_info": {
   "codemirror_mode": {
    "name": "ipython",
    "version": 3
   },
   "file_extension": ".py",
   "mimetype": "text/x-python",
   "name": "python",
   "nbconvert_exporter": "python",
   "pygments_lexer": "ipython3",
   "version": "3.11.1"
  },
  "orig_nbformat": 4,
  "vscode": {
   "interpreter": {
    "hash": "214b9567dfb3af3fec25f201254d742456ae26af278166741b3d1f08044ae781"
   }
  }
 },
 "nbformat": 4,
 "nbformat_minor": 2
}
