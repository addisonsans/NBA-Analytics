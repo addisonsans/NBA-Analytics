{
 "cells": [
  {
   "cell_type": "code",
   "execution_count": 60,
   "metadata": {},
   "outputs": [],
   "source": [
    "# importing libraries\n",
    "import pandas as pd\n",
    "import numpy as np\n",
    "from ipywidgets import widgets\n",
    "import difflib\n",
    "import matplotlib.pyplot as plt\n",
    "import statsmodels.api as sm"
   ]
  },
  {
   "cell_type": "code",
   "execution_count": 61,
   "metadata": {},
   "outputs": [],
   "source": [
    "first_name = input(\"Please insert the first name of the player you want to see trends for\")\n",
    "last_name = input(\"Please insert the last name of the player you want to see trends for\")\n",
    "full_name = first_name + \" \" + last_name"
   ]
  },
  {
   "cell_type": "code",
   "execution_count": 62,
   "metadata": {},
   "outputs": [],
   "source": [
    "# reading clean file\n",
    "file_path = \"C:/Github Repo/NBA-Analytics/data/basketballProject/cleaned-files/cleaned-data.csv\"\n",
    "clean_df = pd.read_csv(file_path)"
   ]
  },
  {
   "cell_type": "code",
   "execution_count": 63,
   "metadata": {},
   "outputs": [],
   "source": [
    "# creating df for fuzzy match between user input and existing data\n",
    "fuzzy_df = pd.DataFrame([full_name],columns=[\"PLAYER\"])\n",
    "\n",
    "# creating duplicate column of fuzzy name across which match will be made\n",
    "fuzzy_df[\"fuzzy_name\"] = fuzzy_df[\"PLAYER\"]\n",
    "\n",
    "# matching and overwriting fuzzy input with best match from existing data\n",
    "fuzzy_df[\"PLAYER\"] = fuzzy_df[\"PLAYER\"].apply(lambda x: difflib.get_close_matches(x, clean_df[\"PLAYER\"])[0])\n",
    "\n",
    "# storing name of best match in a variable\n",
    "predicate_name = fuzzy_df[\"PLAYER\"][fuzzy_df[\"fuzzy_name\"] == full_name][0]\n",
    "\n",
    "# get subset of player statistics relevant to the name passed in the predicate\n",
    "relevant_df = clean_df[clean_df[\"PLAYER\"] == predicate_name].reset_index()"
   ]
  },
  {
   "cell_type": "code",
   "execution_count": 64,
   "metadata": {},
   "outputs": [],
   "source": [
    "for index, row in relevant_df.iterrows():\n",
    "    season_orig = row[\"SEASON_ID\"]\n",
    "    season = \"'\"+row[\"SEASON_ID\"][-2:]\n",
    "    relevant_df.loc[relevant_df[\"SEASON_ID\"] == season_orig, \"SEASON_ID\"] = season"
   ]
  },
  {
   "cell_type": "code",
   "execution_count": 65,
   "metadata": {},
   "outputs": [],
   "source": [
    "columns_list = relevant_df.columns.tolist()[3:]"
   ]
  },
  {
   "cell_type": "code",
   "execution_count": 66,
   "metadata": {},
   "outputs": [
    {
     "data": {
      "application/vnd.jupyter.widget-view+json": {
       "model_id": "4a9f38b12f8a42d19f0de9652b0ca72f",
       "version_major": 2,
       "version_minor": 0
      },
      "text/plain": [
       "Dropdown(description='x-axis:', index=3, options=('Season_No', 'PLAYER_ID', 'PLAYER', 'SEASON_ID', 'TEAM_ID', …"
      ]
     },
     "metadata": {},
     "output_type": "display_data"
    },
    {
     "data": {
      "application/vnd.jupyter.widget-view+json": {
       "model_id": "9eafac370bbf4ecf8e52be5f63a2ff90",
       "version_major": 2,
       "version_minor": 0
      },
      "text/plain": [
       "Dropdown(description='y-axis:', index=26, options=('Season_No', 'PLAYER_ID', 'PLAYER', 'SEASON_ID', 'TEAM_ID',…"
      ]
     },
     "metadata": {},
     "output_type": "display_data"
    }
   ],
   "source": [
    "default_x_axis = \"AGE\"\n",
    "default_y_axis = \"PTS\"\n",
    "\n",
    "x_axis_dd = widgets.Dropdown(options = columns_list\n",
    "                ,value = 'SEASON_ID'\n",
    "                ,description = 'x-axis:'\n",
    "                )\n",
    "\n",
    "y_axis_dd = widgets.Dropdown(options = columns_list\n",
    "                ,value = 'PTS'\n",
    "                ,description = 'y-axis:'\n",
    "                )\n",
    "\n",
    "def dropdownn_handler_x(change):\n",
    "    global default_x_axis\n",
    "    default_x_axis = change.new\n",
    "\n",
    "def dropdownn_handler_y(change):\n",
    "    global default_y_axis\n",
    "    default_y_axis = change.new\n",
    "\n",
    "x_axis_dd.observe(dropdownn_handler_x, names='value')\n",
    "y_axis_dd.observe(dropdownn_handler_y, names='value')\n",
    "display(x_axis_dd)\n",
    "display(y_axis_dd)"
   ]
  },
  {
   "cell_type": "code",
   "execution_count": 69,
   "metadata": {},
   "outputs": [
    {
     "data": {
      "image/png": "[encoded data removed]",
      "text/plain": [
       "<Figure size 640x480 with 1 Axes>"
      ]
     },
     "metadata": {},
     "output_type": "display_data"
    }
   ],
   "source": [
    "chart_title = default_y_axis + \" as a function of \"+ default_x_axis + \" for \" + predicate_name\n",
    "fig, ax = plt.subplots()\n",
    "relevant_df.plot(x=default_x_axis, y=default_y_axis, kind=\"scatter\", title=chart_title, ax = ax)\n",
    "model_formula = default_y_axis + \" ~ \" + default_x_axis\n",
    "model = sm.formula.ols(formula=model_formula, data=relevant_df)\n",
    "res = model.fit()\n",
    "relevant_df.assign(fit=res.fittedvalues).plot(x=default_x_axis,y='fit',ax=ax)\n",
    "plt.show()"
   ]
  },
  {
   "attachments": {},
   "cell_type": "markdown",
   "metadata": {},
   "source": [
    "P.S.: if this isn't the player you are interested in, please try the input again"
   ]
  }
 ],
 "metadata": {
  "kernelspec": {
   "display_name": "Python 3",
   "language": "python",
   "name": "python3"
  },
  "language_info": {
   "codemirror_mode": {
    "name": "ipython",
    "version": 3
   },
   "file_extension": ".py",
   "mimetype": "text/x-python",
   "name": "python",
   "nbconvert_exporter": "python",
   "pygments_lexer": "ipython3",
   "version": "3.11.1 (tags/v3.11.1:a7a450f, Dec  6 2022, 19:58:39) [MSC v.1934 64 bit (AMD64)]"
  },
  "orig_nbformat": 4,
  "vscode": {
   "interpreter": {
    "hash": "214b9567dfb3af3fec25f201254d742456ae26af278166741b3d1f08044ae781"
   }
  }
 },
 "nbformat": 4,
 "nbformat_minor": 2
}
