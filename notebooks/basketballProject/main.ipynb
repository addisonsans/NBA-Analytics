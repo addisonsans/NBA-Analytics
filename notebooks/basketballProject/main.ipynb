{
 "cells": [
  {
   "cell_type": "code",
   "execution_count": 16,
   "metadata": {},
   "outputs": [],
   "source": [
    "# import python libraries and nba library\n",
    "import pandas as np\n",
    "import nba_api as nba\n",
    "from matplotlib import pyplot as plt\n",
    "import pandas as pd\n",
    "import socket\n",
    "import logging"
   ]
  },
  {
   "cell_type": "code",
   "execution_count": 17,
   "metadata": {},
   "outputs": [],
   "source": [
    "# import teams, players, and sort them into active or all players\n",
    "from nba_api.stats.static import teams, players\n",
    "nba_players = players.get_players()\n",
    "active_players = players.get_active_players()\n",
    "teams = teams.get_teams()"
   ]
  },
  {
   "cell_type": "code",
   "execution_count": 18,
   "metadata": {},
   "outputs": [],
   "source": [
    "# import use-case specific functions\n",
    "from nba_api.stats.endpoints import playercareerstats"
   ]
  },
  {
   "cell_type": "code",
   "execution_count": 19,
   "metadata": {},
   "outputs": [],
   "source": [
    "# Add entry for each player on whether they have been analyzed or not. \n",
    "# Default is not analyzed\n",
    "for player in active_players:\n",
    "    player['Parsed ?'] = False\n",
    "master_list = pd.DataFrame()\n",
    "\n",
    "# Create temp dataframe and initialize count to serve as a staging \n",
    "# Dataframe and break up the merging into small batches\n",
    "temp_df = pd.DataFrame()\n",
    "count = 0"
   ]
  },
  {
   "cell_type": "code",
   "execution_count": 22,
   "metadata": {},
   "outputs": [
    {
     "name": "stdout",
     "output_type": "stream",
     "text": [
      "TimeoutError\n"
     ]
    }
   ],
   "source": [
    "# Parse thru each active player\n",
    "first_id = 0\n",
    "last_id = 0\n",
    "try:\n",
    "    for player in active_players:\n",
    "\n",
    "        # Check if they have been already analyzed\n",
    "        if player['Parsed ?'] == True:\n",
    "            pass\n",
    "        \n",
    "        # If they haven't, proceed\n",
    "        else:\n",
    "            passedId = player['id']\n",
    "            player_name = player[\"full_name\"]\n",
    "\n",
    "            # Get player stats based on their ID\n",
    "            career_stats = playercareerstats.PlayerCareerStats(player_id = passedId).get_data_frames()[0]\n",
    "            \n",
    "            # Get ID of first and last players analyzed for file naming purposes\n",
    "            if first_id == 0:\n",
    "                first_id = passedId\n",
    "            last_id = passedId\n",
    "\n",
    "            # Add player names to resulting dataframe to keep track of players\n",
    "            career_stats.insert(1,\"full_name\",player_name)\n",
    "\n",
    "            # Append resulting dataframe to temp dataframe\n",
    "            frames = [temp_df,career_stats]\n",
    "            temp_df = pd.concat(frames)\n",
    "\n",
    "            # Set analyzed flag to true\n",
    "            print(player_name)\n",
    "            player['Parsed ?'] = True\n",
    "            count = count + 1\n",
    "\n",
    "            # Once enough volume is reached in the temp dataframe, append it to the main and re-initialize the dataframe\n",
    "            if (count%20) == 0:\n",
    "                frames = [master_list, temp_df]\n",
    "                master_list = pd.concat(frames)\n",
    "                temp_df = pd.DataFrame()\n",
    "                print(\"Temp Full - Resetting\")\n",
    "except:\n",
    "    print(\"TimeoutError\")"
   ]
  },
  {
   "cell_type": "code",
   "execution_count": 23,
   "metadata": {},
   "outputs": [],
   "source": [
    "if first_id == 0:\n",
    "    pass\n",
    "else:\n",
    "    master_list.to_csv(\"C:/Users/mario/OneDrive - University of Illinois - Urbana/Documents/Mario_External_HDD_Staging/Github Repo/Mario-Jupyter-Codespace/data/basketballProject/nba_data_\"+str(first_id)+\"to\"+str(last_id)+\".csv\")"
   ]
  },
  {
   "cell_type": "code",
   "execution_count": null,
   "metadata": {},
   "outputs": [],
   "source": []
  }
 ],
 "metadata": {
  "kernelspec": {
   "display_name": "Python 3",
   "language": "python",
   "name": "python3"
  },
  "language_info": {
   "codemirror_mode": {
    "name": "ipython",
    "version": 3
   },
   "file_extension": ".py",
   "mimetype": "text/x-python",
   "name": "python",
   "nbconvert_exporter": "python",
   "pygments_lexer": "ipython3",
   "version": "3.11.1"
  },
  "orig_nbformat": 4,
  "vscode": {
   "interpreter": {
    "hash": "214b9567dfb3af3fec25f201254d742456ae26af278166741b3d1f08044ae781"
   }
  }
 },
 "nbformat": 4,
 "nbformat_minor": 2
}
