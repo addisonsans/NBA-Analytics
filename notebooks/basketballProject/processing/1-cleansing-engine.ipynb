{
 "cells": [
  {
   "cell_type": "code",
   "execution_count": 9,
   "metadata": {},
   "outputs": [],
   "source": [
    "# importing libraries\n",
    "import pandas as pd\n",
    "import numpy as np"
   ]
  },
  {
   "cell_type": "code",
   "execution_count": 10,
   "metadata": {},
   "outputs": [],
   "source": [
    "# reading raw consolidated file\n",
    "file_path = \"C:/Github Repo/NBA-Analytics/data/basketballProject/consolidated-files/consolidated_evergreen_stats.csv\"\n",
    "raw_df = pd.read_csv(file_path)"
   ]
  },
  {
   "cell_type": "code",
   "execution_count": 11,
   "metadata": {},
   "outputs": [],
   "source": [
    "# TODO: path forward can be parsing thru age and year for each player \n",
    "# and using a temp variable to continually update it until you reach the max value"
   ]
  },
  {
   "cell_type": "code",
   "execution_count": 12,
   "metadata": {},
   "outputs": [],
   "source": [
    "# Cleaning Raw Data columns\n",
    "raw_df = raw_df.drop(columns=[\"Unnamed: 0\"])"
   ]
  },
  {
   "cell_type": "code",
   "execution_count": 13,
   "metadata": {},
   "outputs": [],
   "source": [
    "unique_ids = raw_df.PLAYER_ID.unique()\n",
    "# test_id = 203991 TODO: delete this"
   ]
  },
  {
   "cell_type": "code",
   "execution_count": 14,
   "metadata": {},
   "outputs": [],
   "source": [
    "# reset index to make sure indexes pair w/number of rows\n",
    "raw_df = raw_df.reset_index()\n",
    "\n",
    "for player_id in unique_ids:\n",
    "    current_age = -1\n",
    "    current_season = -1\n",
    "    for index, row in raw_df[raw_df[\"PLAYER_ID\"] == player_id].iterrows():\n",
    "        age = row[\"Age\"]\n",
    "        season = row[\"Season #\"]\n",
    "        if age > current_age:\n",
    "            current_age = age\n",
    "        if season > current_season:\n",
    "            current_season = season\n",
    "    current_age = current_age + 1\n",
    "    current_season = current_season + 1\n",
    "    raw_df.loc[(raw_df[\"PLAYER_ID\"] == player_id) & (raw_df[\"Season #\"] == -1), \"Age\"] = current_age\n",
    "    raw_df.loc[(raw_df[\"PLAYER_ID\"] == player_id) & (raw_df[\"Season #\"] == -1), \"Season #\"] = current_season\n",
    "\n",
    "raw_df = raw_df.rename(columns={\"Season #\": \"Season_No\", \"Age\": \"AGE\"})\n",
    "raw_df = raw_df[(raw_df[\"AGE\"]!= 0) & (raw_df[\"Season_No\"] != 0)]"
   ]
  },
  {
   "cell_type": "code",
   "execution_count": 15,
   "metadata": {},
   "outputs": [],
   "source": [
    "file_path = \"C:/Github Repo/NBA-Analytics/data/basketballProject/cleaned-files/\"\n",
    "# file_path = \"../../data/basketballProject/cleaned-files/\"\n",
    "file_name = \"cleaned-data\"\n",
    "file_extension = \".csv\"\n",
    "full_path = file_path + file_name + file_extension\n",
    "raw_df.to_csv(full_path)"
   ]
  }
 ],
 "metadata": {
  "kernelspec": {
   "display_name": "Python 3",
   "language": "python",
   "name": "python3"
  },
  "language_info": {
   "codemirror_mode": {
    "name": "ipython",
    "version": 3
   },
   "file_extension": ".py",
   "mimetype": "text/x-python",
   "name": "python",
   "nbconvert_exporter": "python",
   "pygments_lexer": "ipython3",
   "version": "3.11.1 (tags/v3.11.1:a7a450f, Dec  6 2022, 19:58:39) [MSC v.1934 64 bit (AMD64)]"
  },
  "orig_nbformat": 4,
  "vscode": {
   "interpreter": {
    "hash": "214b9567dfb3af3fec25f201254d742456ae26af278166741b3d1f08044ae781"
   }
  }
 },
 "nbformat": 4,
 "nbformat_minor": 2
}
