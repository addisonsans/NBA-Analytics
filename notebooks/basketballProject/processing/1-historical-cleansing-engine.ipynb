{
 "cells": [
  {
   "cell_type": "code",
   "execution_count": 1,
   "metadata": {},
   "outputs": [],
   "source": [
    "# importing libraries\n",
    "import pandas as pd\n",
    "import numpy as np"
   ]
  },
  {
   "cell_type": "code",
   "execution_count": 2,
   "metadata": {},
   "outputs": [
    {
     "name": "stderr",
     "output_type": "stream",
     "text": [
      "C:\\Users\\mario\\AppData\\Local\\Temp\\ipykernel_3692\\2052432369.py:3: DtypeWarning: Columns (4) have mixed types. Specify dtype option on import or set low_memory=False.\n",
      "  raw_df = pd.read_csv(file_path)\n"
     ]
    }
   ],
   "source": [
    "# reading raw consolidated file\n",
    "file_path = \"C:/Github Repo/NBA-Analytics/data/basketballProject/consolidated-files/consolidated_historical_stats.csv\"\n",
    "raw_df = pd.read_csv(file_path)"
   ]
  },
  {
   "cell_type": "code",
   "execution_count": 3,
   "metadata": {},
   "outputs": [],
   "source": [
    "# TODO: path forward can be parsing thru age and year for each player \n",
    "# and using a temp variable to continually update it until you reach the max value"
   ]
  },
  {
   "cell_type": "code",
   "execution_count": 4,
   "metadata": {},
   "outputs": [],
   "source": [
    "# Cleaning Raw Data columns\n",
    "raw_df = raw_df.drop(columns=[\"Unnamed: 0\"])"
   ]
  },
  {
   "cell_type": "code",
   "execution_count": 5,
   "metadata": {},
   "outputs": [],
   "source": [
    "unique_ids = raw_df.PLAYER.unique()\n",
    "# test_id = 203991 TODO: delete this"
   ]
  },
  {
   "cell_type": "code",
   "execution_count": 6,
   "metadata": {},
   "outputs": [],
   "source": [
    "# reset index to make sure indexes pair w/number of rows\n",
    "raw_df = raw_df.reset_index()\n",
    "\n",
    "for player_id in unique_ids:\n",
    "    current_age = -1\n",
    "    current_season = -1\n",
    "    for index, row in raw_df[raw_df[\"PLAYER\"] == player_id].iterrows():\n",
    "        age = row[\"Age\"]\n",
    "        season = row[\"Season #\"]\n",
    "        if age > current_age:\n",
    "            current_age = age\n",
    "        if season > current_season:\n",
    "            current_season = season\n",
    "    current_age = current_age + 1\n",
    "    current_season = current_season + 1\n",
    "    raw_df.loc[(raw_df[\"PLAYER\"] == player_id) & (raw_df[\"Season #\"] == -1), \"Age\"] = current_age\n",
    "    raw_df.loc[(raw_df[\"PLAYER\"] == player_id) & (raw_df[\"Season #\"] == -1), \"Season #\"] = current_season\n",
    "\n",
    "raw_df = raw_df.rename(columns={\"Season #\": \"Season_No\", \"Age\": \"AGE\"})\n",
    "raw_df = raw_df[(raw_df[\"AGE\"]!= 0) & (raw_df[\"Season_No\"] != 0)]"
   ]
  },
  {
   "cell_type": "code",
   "execution_count": 7,
   "metadata": {},
   "outputs": [
    {
     "name": "stderr",
     "output_type": "stream",
     "text": [
      "c:\\Users\\mario\\AppData\\Local\\Programs\\Python\\Python311\\Lib\\site-packages\\pandas\\core\\internals\\blocks.py:2323: RuntimeWarning: invalid value encountered in cast\n",
      "  values = values.astype(str)\n"
     ]
    }
   ],
   "source": [
    "file_path = \"C:/Github Repo/NBA-Analytics/data/basketballProject/cleaned-files/\"\n",
    "# file_path = \"../../data/basketballProject/cleaned-files/\"\n",
    "file_name = \"cleaned-historical-data\"\n",
    "file_extension = \".csv\"\n",
    "full_path = file_path + file_name + file_extension\n",
    "raw_df.to_csv(full_path)"
   ]
  }
 ],
 "metadata": {
  "kernelspec": {
   "display_name": "Python 3",
   "language": "python",
   "name": "python3"
  },
  "language_info": {
   "codemirror_mode": {
    "name": "ipython",
    "version": 3
   },
   "file_extension": ".py",
   "mimetype": "text/x-python",
   "name": "python",
   "nbconvert_exporter": "python",
   "pygments_lexer": "ipython3",
   "version": "3.11.1"
  },
  "orig_nbformat": 4,
  "vscode": {
   "interpreter": {
    "hash": "214b9567dfb3af3fec25f201254d742456ae26af278166741b3d1f08044ae781"
   }
  }
 },
 "nbformat": 4,
 "nbformat_minor": 2
}
