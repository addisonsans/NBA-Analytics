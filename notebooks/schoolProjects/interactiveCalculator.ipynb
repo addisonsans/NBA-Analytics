{
 "cells": [
  {
   "cell_type": "code",
   "execution_count": 1,
   "metadata": {},
   "outputs": [
    {
     "data": {
      "application/vnd.jupyter.widget-view+json": {
       "model_id": "0a00eb67c36b4641b8e19214ed6aebc3",
       "version_major": 2,
       "version_minor": 0
      },
      "text/plain": [
       "interactive(children=(IntSlider(value=0, description='ah', max=4), IntSlider(value=0, description='bh', max=4)…"
      ]
     },
     "metadata": {},
     "output_type": "display_data"
    }
   ],
   "source": [
    "from ipywidgets import interactive\n",
    "import matplotlib.pyplot as plt\n",
    "import numpy as np\n",
    "import itertools\n",
    "def five(ah = 0, bh = 0, ch = 0, dh = 0, eh = 0, ag1=0, ag2 = 0, bg1=0, bg2 = 0, cg1=0, cg2 = 0, dg1=0, dg2 = 0, eg1=0, eg2=0):\n",
    "    from ipywidgets import interactive\n",
    "    import matplotlib.pyplot as plt\n",
    "    import numpy as np\n",
    "    ag = np.array([ag1, ag2])\n",
    "    bg = np.array([bg1, bg2])\n",
    "    cg = np.array([cg1, cg2])\n",
    "    dg = np.array([dg1, dg2])\n",
    "    eg = np.array([eg1, eg2])\n",
    "    ag.sort()\n",
    "    bg.sort()\n",
    "    cg.sort()\n",
    "    dg.sort()\n",
    "    eg.sort()\n",
    "    agh = ag*ah\n",
    "    bgh = bg*bh\n",
    "    cgh = cg*ch\n",
    "    dgh = dg*dh\n",
    "    egh = eg*eh\n",
    "    hours = ah + bh + ch + dh + eh\n",
    "    posgpas = []\n",
    "    for combo in itertools.product(agh, bgh, cgh, dgh, egh):\n",
    "        posgpas.append(sum(combo)/hours)\n",
    "    for xy in range(len(posgpas)):\n",
    "        posgpas[xy] = round(posgpas[xy],2)\n",
    "    gpacount = {}\n",
    "    for gpa in posgpas:\n",
    "        if gpa not in gpacount:\n",
    "            gpacount[gpa] = 0\n",
    "            gpacount[gpa] += 1\n",
    "        elif gpa in gpacount:\n",
    "            gpacount[gpa] += 1\n",
    "    gpas = list(gpacount.keys())\n",
    "    count = list(gpacount.values())\n",
    "    count = np.array(count)\n",
    "    sumcount = np.sum(count)\n",
    "    for num in range(len(count)):\n",
    "        count[num] = count[num]*100/sumcount\n",
    "    plt.plot(gpas, count, 'rx')\n",
    "    plt.xlabel('Possible GPAs')\n",
    "    plt.ylabel('Probability of GPAs (%)')\n",
    "    plt.title('Possible GPAs vs Probability of each GPA')\n",
    "    plt.show()\n",
    "\n",
    "interactive_plot = interactive(five, ah = (0,4,1), bh = (0,4,1), ch = (0,4,1), dh = (0,4,1), eh = (0,4,1), ag1 = (0,4,0.3333), ag2 = (0,4,0.3333), bg1 = (0,4,0.3333), bg2 = (0,4,0.3333), cg1 = (0,4,0.3333), cg2 = (0,4,0.3333), dg1 = (0,4,0.3333), dg2 = (0,4,0.3333), eg1 = (0,4,0.3333), eg2 = (0,4,0.3333))\n",
    "interactive_plot"
   ]
  },
  {
   "cell_type": "code",
   "execution_count": null,
   "metadata": {
    "collapsed": true
   },
   "outputs": [],
   "source": []
  }
 ],
 "metadata": {
  "kernelspec": {
   "display_name": "Python 3",
   "language": "python",
   "name": "python3"
  },
  "language_info": {
   "codemirror_mode": {
    "name": "ipython",
    "version": 3
   },
   "file_extension": ".py",
   "mimetype": "text/x-python",
   "name": "python",
   "nbconvert_exporter": "python",
   "pygments_lexer": "ipython3",
   "version": "3.11.1 (tags/v3.11.1:a7a450f, Dec  6 2022, 19:58:39) [MSC v.1934 64 bit (AMD64)]"
  },
  "vscode": {
   "interpreter": {
    "hash": "214b9567dfb3af3fec25f201254d742456ae26af278166741b3d1f08044ae781"
   }
  }
 },
 "nbformat": 4,
 "nbformat_minor": 2
}
