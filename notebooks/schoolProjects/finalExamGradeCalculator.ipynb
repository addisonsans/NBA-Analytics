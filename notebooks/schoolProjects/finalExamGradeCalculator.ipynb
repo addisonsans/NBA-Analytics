{
 "cells": [
  {
   "cell_type": "code",
   "execution_count": 2,
   "metadata": {
    "collapsed": true
   },
   "outputs": [],
   "source": [
    "def final_grade():\n",
    "    total_pts = input('How many points are in the course ? ')\n",
    "    total_pts = float(total_pts)\n",
    "    \n",
    "    possible_pts = input('How many points could have been earned so far ? ')\n",
    "    possible_pts = float(possible_pts)\n",
    "    \n",
    "    earned_pts = input('How many points have you earned so far ? ')\n",
    "    earned_pts = float(earned_pts)\n",
    "    \n",
    "    final = float(input('How many points is your final worth ?'))\n",
    "    \n",
    "    left = total_pts - possible_pts - final\n",
    "     \n",
    "    if left == 0:\n",
    "        grade = float(input('What percentage are you trying to get in the class ? Input a percentage, not a decimal ' ))/100\n",
    "        fg = grade*total_pts-earned_pts\n",
    "        fgp = fg/final*100\n",
    "        fg = round(fg,2)\n",
    "        fgp = round(fgp,2)\n",
    "        data = (fg,final,fgp,grade*100)\n",
    "        format_string = 'You need to get %s out of %s or a %s percent to get a %s percent in the class'\n",
    "        print(format_string % data)\n",
    "        if fgp >= 90:\n",
    "            print(\"Good luck! You're gonna need it\")\n",
    "    elif left < 0:\n",
    "        print(\"You done goofed. I'm starting you over. Make sure your numbers are correct\")\n",
    "        final_grade()\n",
    "    else:\n",
    "        pred = input('Are there %s points left in your class ? Answer Yes if so. If not, answer whatever is not Yes' % left).upper()\n",
    "        if pred.upper() != 'YES':\n",
    "            print(\"You done goofed. I'm starting you over. Make sure your numbers are correct\")\n",
    "            final_grade()\n",
    "        else:\n",
    "            leftp = float(input('What percentage do you expect to get on the points that are remaining ? Enter as a percentage '))/100\n",
    "            grade = float(input('What percentage are you trying to get in the class ? Input a percentage, not a decimal ' ))/100\n",
    "            fg = grade*total_pts-earned_pts-leftp*left\n",
    "            fgp = fg/final*100\n",
    "            fg = round(fg,2)\n",
    "            fgp = round(fgp,2)\n",
    "            data = (fg,final,fgp,grade*100)\n",
    "            format_string = 'You need to get %s out of %s or a %s percent to get a %s percent in the class'\n",
    "            print(format_string % data)\n",
    "            if fgp >= 90:\n",
    "                print(\"Good luck! You're gonna need it\")"
   ]
  },
  {
   "cell_type": "code",
   "execution_count": 5,
   "metadata": {},
   "outputs": [
    {
     "name": "stdout",
     "output_type": "stream",
     "text": [
      "How many points are in the course ? 1\n",
      "How many points could have been earned so far ? .5\n",
      "How many points have you earned so far ? .457\n",
      "How many points is your final worth ?.5\n",
      "What percentage are you trying to get in the class ? Input a percentage, not a decimal 87\n",
      "You need to get 0.41 out of 0.5 or a 82.6 percent to get a 87.0 percent in the class\n"
     ]
    }
   ],
   "source": [
    "final_grade()"
   ]
  }
 ],
 "metadata": {
  "kernelspec": {
   "display_name": "Python 3",
   "language": "python",
   "name": "python3"
  },
  "language_info": {
   "name": "python",
   "version": "3.10.4 (main, Nov 29 2022, 20:00:25) [GCC 9.4.0]"
  },
  "vscode": {
   "interpreter": {
    "hash": "3ad933181bd8a04b432d3370b9dc3b0662ad032c4dfaa4e4f1596c548f763858"
   }
  }
 },
 "nbformat": 4,
 "nbformat_minor": 2
}
